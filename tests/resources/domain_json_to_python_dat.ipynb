{
 "cells": [
  {
   "cell_type": "markdown",
   "metadata": {
    "collapsed": true,
    "pycharm": {
     "name": "#%% md\n"
    }
   },
   "source": [
    "The domain cases that are used to initialize the agent's domain CBRs are stored in JSON files. In order to ease its use\n",
    "the agents read directly from .dat files that contain the cases directly as Python objects. This notebook allows the\n",
    "user to get an easy translation from the JSON files to the desired .dat files"
   ]
  },
  {
   "cell_type": "markdown",
   "source": [
    "The required imports"
   ],
   "metadata": {
    "collapsed": false,
    "pycharm": {
     "name": "#%% md\n"
    }
   }
  },
  {
   "cell_type": "code",
   "execution_count": 1,
   "outputs": [],
   "source": [
    "from os.path import isfile, abspath, join as join_path, splitext\n",
    "from os import listdir\n",
    "\n",
    "from loguru import logger\n",
    "\n",
    "from tests.resources.json_to_python_utils import translate_domain_cases as translate"
   ],
   "metadata": {
    "collapsed": false,
    "pycharm": {
     "name": "#%%\n"
    }
   }
  },
  {
   "cell_type": "markdown",
   "source": [
    "Stabilising the folders"
   ],
   "metadata": {
    "collapsed": false
   }
  },
  {
   "cell_type": "code",
   "execution_count": 2,
   "outputs": [
    {
     "name": "stderr",
     "output_type": "stream",
     "text": [
      "2021-07-27 18:28:27.748 | INFO     | __main__:<module>:2 - JSON sources directory set to: /home/luis/Documentos/TFM/repos/pyargcbr/tests/resources/json/domain_cases/partitions\n",
      "2021-07-27 18:28:27.751 | INFO     | __main__:<module>:4 - Data destintaion directory set to: /home/luis/Documentos/TFM/repos/pyargcbr/tests/resources/data/domain_cases/partitions\n"
     ]
    }
   ],
   "source": [
    "json_cases_dir = abspath(\"json/domain_cases/partitionsInc\")\n",
    "logger.info(\"JSON sources directory set to: {}\".format(json_cases_dir))\n",
    "python_cases_dir = abspath(\"data/domain_cases/partitionsInc\")\n",
    "logger.info(\"Data destintaion directory set to: {}\".format(python_cases_dir))"
   ],
   "metadata": {
    "collapsed": false,
    "pycharm": {
     "name": "#%%\n"
    }
   }
  },
  {
   "cell_type": "markdown",
   "source": [
    "Every JSON file in the source folder is translated and stored as Python objects in the\n",
    "destination directory"
   ],
   "metadata": {
    "collapsed": false
   }
  },
  {
   "cell_type": "code",
   "execution_count": 3,
   "outputs": [
    {
     "name": "stderr",
     "output_type": "stream",
     "text": [
      "2021-07-27 18:28:27.760 | INFO     | __main__:<module>:1 - Starting the directory walk in: /home/luis/Documentos/TFM/repos/pyargcbr/tests/resources/data/domain_cases/partitions\n",
      "2021-07-27 18:28:27.765 | INFO     | __main__:<module>:10 - Directory translation finished\n"
     ]
    }
   ],
   "source": [
    "logger.info(\"Starting the directory walk in: {}\".format(python_cases_dir))\n",
    "\n",
    "json_files = [f for f in listdir(json_cases_dir) if isfile(join_path(json_cases_dir, f)) and\n",
    "              f.endswith('.json')]\n",
    "for file in json_files:\n",
    "    fullname = join_path(json_cases_dir, file)\n",
    "    dest_name = splitext(join_path(python_cases_dir, file))[0]\n",
    "    dest_name += \".dat\"\n",
    "    translate(fullname, dest_name, verbose_test=True)\n",
    "logger.info(\"Directory translation finished\")\n"
   ],
   "metadata": {
    "collapsed": false,
    "pycharm": {
     "name": "#%%\n"
    }
   }
  }
 ],
 "metadata": {
  "kernelspec": {
   "display_name": "Python 3",
   "language": "python",
   "name": "python3"
  },
  "language_info": {
   "codemirror_mode": {
    "name": "ipython",
    "version": 2
   },
   "file_extension": ".py",
   "mimetype": "text/x-python",
   "name": "python",
   "nbconvert_exporter": "python",
   "pygments_lexer": "ipython2",
   "version": "2.7.6"
  }
 },
 "nbformat": 4,
 "nbformat_minor": 0
}